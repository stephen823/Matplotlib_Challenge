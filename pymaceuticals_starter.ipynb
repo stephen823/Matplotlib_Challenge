{
 "cells": [
  {
   "cell_type": "markdown",
   "metadata": {},
   "source": [
    "## Observations and Insights"
   ]
  },
  {
   "cell_type": "markdown",
   "metadata": {},
   "source": []
  },
  {
   "cell_type": "markdown",
   "metadata": {},
   "source": [
    "## Dependencies and starter code"
   ]
  },
  {
   "cell_type": "code",
   "execution_count": 193,
   "metadata": {},
   "outputs": [
    {
     "data": {
      "text/html": [
       "<div>\n",
       "<style scoped>\n",
       "    .dataframe tbody tr th:only-of-type {\n",
       "        vertical-align: middle;\n",
       "    }\n",
       "\n",
       "    .dataframe tbody tr th {\n",
       "        vertical-align: top;\n",
       "    }\n",
       "\n",
       "    .dataframe thead th {\n",
       "        text-align: right;\n",
       "    }\n",
       "</style>\n",
       "<table border=\"1\" class=\"dataframe\">\n",
       "  <thead>\n",
       "    <tr style=\"text-align: right;\">\n",
       "      <th></th>\n",
       "      <th>Mouse ID</th>\n",
       "      <th>Drug Regimen</th>\n",
       "      <th>Sex</th>\n",
       "      <th>Age_months</th>\n",
       "      <th>Weight (g)</th>\n",
       "      <th>Timepoint</th>\n",
       "      <th>Tumor Volume (mm3)</th>\n",
       "      <th>Metastatic Sites</th>\n",
       "    </tr>\n",
       "  </thead>\n",
       "  <tbody>\n",
       "    <tr>\n",
       "      <th>0</th>\n",
       "      <td>k403</td>\n",
       "      <td>Ramicane</td>\n",
       "      <td>Male</td>\n",
       "      <td>21</td>\n",
       "      <td>16</td>\n",
       "      <td>0</td>\n",
       "      <td>45.000000</td>\n",
       "      <td>0</td>\n",
       "    </tr>\n",
       "    <tr>\n",
       "      <th>1</th>\n",
       "      <td>k403</td>\n",
       "      <td>Ramicane</td>\n",
       "      <td>Male</td>\n",
       "      <td>21</td>\n",
       "      <td>16</td>\n",
       "      <td>5</td>\n",
       "      <td>38.825898</td>\n",
       "      <td>0</td>\n",
       "    </tr>\n",
       "    <tr>\n",
       "      <th>2</th>\n",
       "      <td>k403</td>\n",
       "      <td>Ramicane</td>\n",
       "      <td>Male</td>\n",
       "      <td>21</td>\n",
       "      <td>16</td>\n",
       "      <td>10</td>\n",
       "      <td>35.014271</td>\n",
       "      <td>1</td>\n",
       "    </tr>\n",
       "    <tr>\n",
       "      <th>3</th>\n",
       "      <td>k403</td>\n",
       "      <td>Ramicane</td>\n",
       "      <td>Male</td>\n",
       "      <td>21</td>\n",
       "      <td>16</td>\n",
       "      <td>15</td>\n",
       "      <td>34.223992</td>\n",
       "      <td>1</td>\n",
       "    </tr>\n",
       "    <tr>\n",
       "      <th>4</th>\n",
       "      <td>k403</td>\n",
       "      <td>Ramicane</td>\n",
       "      <td>Male</td>\n",
       "      <td>21</td>\n",
       "      <td>16</td>\n",
       "      <td>20</td>\n",
       "      <td>32.997729</td>\n",
       "      <td>1</td>\n",
       "    </tr>\n",
       "  </tbody>\n",
       "</table>\n",
       "</div>"
      ],
      "text/plain": [
       "  Mouse ID Drug Regimen   Sex  Age_months  Weight (g)  Timepoint  \\\n",
       "0     k403     Ramicane  Male          21          16          0   \n",
       "1     k403     Ramicane  Male          21          16          5   \n",
       "2     k403     Ramicane  Male          21          16         10   \n",
       "3     k403     Ramicane  Male          21          16         15   \n",
       "4     k403     Ramicane  Male          21          16         20   \n",
       "\n",
       "   Tumor Volume (mm3)  Metastatic Sites  \n",
       "0           45.000000                 0  \n",
       "1           38.825898                 0  \n",
       "2           35.014271                 1  \n",
       "3           34.223992                 1  \n",
       "4           32.997729                 1  "
      ]
     },
     "execution_count": 193,
     "metadata": {},
     "output_type": "execute_result"
    }
   ],
   "source": [
    "# Dependencies and Setup\n",
    "import matplotlib.pyplot as plt\n",
    "import pandas as pd\n",
    "import scipy.stats as st\n",
    "\n",
    "# Study data files\n",
    "mouse_metadata = \"data/Mouse_metadata.csv\"\n",
    "study_results = \"data/Study_results.csv\"\n",
    "\n",
    "# Read the mouse data and the study results\n",
    "mouse_metadata = pd.read_csv(mouse_metadata)\n",
    "study_results = pd.read_csv(study_results)\n",
    "\n",
    "# Combine the data into a single dataset\n",
    "mouse_result=pd.merge(mouse_metadata,study_results,on=\"Mouse ID\")\n",
    "mouse_result.head()"
   ]
  },
  {
   "cell_type": "markdown",
   "metadata": {},
   "source": [
    "## Summary statistics"
   ]
  },
  {
   "cell_type": "code",
   "execution_count": 194,
   "metadata": {},
   "outputs": [
    {
     "data": {
      "text/html": [
       "<div>\n",
       "<style scoped>\n",
       "    .dataframe tbody tr th:only-of-type {\n",
       "        vertical-align: middle;\n",
       "    }\n",
       "\n",
       "    .dataframe tbody tr th {\n",
       "        vertical-align: top;\n",
       "    }\n",
       "\n",
       "    .dataframe thead th {\n",
       "        text-align: right;\n",
       "    }\n",
       "</style>\n",
       "<table border=\"1\" class=\"dataframe\">\n",
       "  <thead>\n",
       "    <tr style=\"text-align: right;\">\n",
       "      <th></th>\n",
       "      <th>Age_months</th>\n",
       "      <th>Weight (g)</th>\n",
       "      <th>Timepoint</th>\n",
       "      <th>Tumor Volume (mm3)</th>\n",
       "      <th>Metastatic Sites</th>\n",
       "    </tr>\n",
       "  </thead>\n",
       "  <tbody>\n",
       "    <tr>\n",
       "      <th>count</th>\n",
       "      <td>1893.000000</td>\n",
       "      <td>1893.000000</td>\n",
       "      <td>1893.000000</td>\n",
       "      <td>1893.000000</td>\n",
       "      <td>1893.000000</td>\n",
       "    </tr>\n",
       "    <tr>\n",
       "      <th>mean</th>\n",
       "      <td>12.814580</td>\n",
       "      <td>25.662441</td>\n",
       "      <td>19.572108</td>\n",
       "      <td>50.448381</td>\n",
       "      <td>1.021659</td>\n",
       "    </tr>\n",
       "    <tr>\n",
       "      <th>std</th>\n",
       "      <td>7.189592</td>\n",
       "      <td>3.921622</td>\n",
       "      <td>14.079460</td>\n",
       "      <td>8.894722</td>\n",
       "      <td>1.137974</td>\n",
       "    </tr>\n",
       "    <tr>\n",
       "      <th>min</th>\n",
       "      <td>1.000000</td>\n",
       "      <td>15.000000</td>\n",
       "      <td>0.000000</td>\n",
       "      <td>22.050126</td>\n",
       "      <td>0.000000</td>\n",
       "    </tr>\n",
       "    <tr>\n",
       "      <th>25%</th>\n",
       "      <td>7.000000</td>\n",
       "      <td>25.000000</td>\n",
       "      <td>5.000000</td>\n",
       "      <td>45.000000</td>\n",
       "      <td>0.000000</td>\n",
       "    </tr>\n",
       "    <tr>\n",
       "      <th>50%</th>\n",
       "      <td>13.000000</td>\n",
       "      <td>27.000000</td>\n",
       "      <td>20.000000</td>\n",
       "      <td>48.951474</td>\n",
       "      <td>1.000000</td>\n",
       "    </tr>\n",
       "    <tr>\n",
       "      <th>75%</th>\n",
       "      <td>20.000000</td>\n",
       "      <td>29.000000</td>\n",
       "      <td>30.000000</td>\n",
       "      <td>56.292200</td>\n",
       "      <td>2.000000</td>\n",
       "    </tr>\n",
       "    <tr>\n",
       "      <th>max</th>\n",
       "      <td>24.000000</td>\n",
       "      <td>30.000000</td>\n",
       "      <td>45.000000</td>\n",
       "      <td>78.567014</td>\n",
       "      <td>4.000000</td>\n",
       "    </tr>\n",
       "  </tbody>\n",
       "</table>\n",
       "</div>"
      ],
      "text/plain": [
       "        Age_months   Weight (g)    Timepoint  Tumor Volume (mm3)  \\\n",
       "count  1893.000000  1893.000000  1893.000000         1893.000000   \n",
       "mean     12.814580    25.662441    19.572108           50.448381   \n",
       "std       7.189592     3.921622    14.079460            8.894722   \n",
       "min       1.000000    15.000000     0.000000           22.050126   \n",
       "25%       7.000000    25.000000     5.000000           45.000000   \n",
       "50%      13.000000    27.000000    20.000000           48.951474   \n",
       "75%      20.000000    29.000000    30.000000           56.292200   \n",
       "max      24.000000    30.000000    45.000000           78.567014   \n",
       "\n",
       "       Metastatic Sites  \n",
       "count       1893.000000  \n",
       "mean           1.021659  \n",
       "std            1.137974  \n",
       "min            0.000000  \n",
       "25%            0.000000  \n",
       "50%            1.000000  \n",
       "75%            2.000000  \n",
       "max            4.000000  "
      ]
     },
     "execution_count": 194,
     "metadata": {},
     "output_type": "execute_result"
    }
   ],
   "source": [
    "# Generate a summary statistics table of mean, median, variance, standard deviation, and SEM of the tumor volume for each regimen\n",
    "mouse_result.describe()\n",
    "\n",
    "\n",
    "\n",
    "\n",
    "\n"
   ]
  },
  {
   "cell_type": "markdown",
   "metadata": {},
   "source": [
    "## Bar plots"
   ]
  },
  {
   "cell_type": "code",
   "execution_count": 195,
   "metadata": {},
   "outputs": [
    {
     "data": {
      "text/plain": [
       "Text(0.5, 1.0, 'Data Point Count for each Regimen')"
      ]
     },
     "execution_count": 195,
     "metadata": {},
     "output_type": "execute_result"
    },
    {
     "data": {
      "image/png": "[encoded data removed]",
      "text/plain": [
       "<Figure size 432x288 with 1 Axes>"
      ]
     },
     "metadata": {
      "needs_background": "light"
     },
     "output_type": "display_data"
    }
   ],
   "source": [
    "# Generate a bar plot showing number of data points for each treatment regimen\n",
    "\n",
    "# Create data points counts data for each treatment regimen\n",
    "count=mouse_result[\"Drug Regimen\"].value_counts()\n",
    "\n",
    "#Define values for x and y axis\n",
    "counts=[v for v in count]\n",
    "x_axis=[j for j in range(1,11)]\n",
    "\n",
    "#Ploting the bar chart for the datapoint count for each treatment regimen\n",
    "plt.bar(x_axis, counts,color=\"red\", alpha=0.75,align=\"center\",width=0.5)\n",
    "\n",
    "#Set x axis values, x axis label and y axis label\n",
    "regimen_list=[v for v in count.index]\n",
    "plt.xticks(x_axis,[t for t in regimen_list],rotation=\"vertical\")\n",
    "plt.xlabel(\"regimen\")\n",
    "plt.ylabel(\"data_count\")\n",
    "plt.title(\"Data Point Count for each Regimen\")\n",
    "\n"
   ]
  },
  {
   "cell_type": "code",
   "execution_count": 196,
   "metadata": {},
   "outputs": [
    {
     "data": {
      "text/plain": [
       "Text(0, 0.5, 'data_count')"
      ]
     },
     "execution_count": 196,
     "metadata": {},
     "output_type": "execute_result"
    },
    {
     "data": {
      "image/png": "[encoded data removed]",
      "text/plain": [
       "<Figure size 432x288 with 1 Axes>"
      ]
     },
     "metadata": {
      "needs_background": "light"
     },
     "output_type": "display_data"
    }
   ],
   "source": [
    "# Generate a bar plot showing number of data points for each treatment regimen using pyplot\n",
    "\n",
    "# Create data points counts data for each treatment regimen\n",
    "count=mouse_result[\"Drug Regimen\"].value_counts()\n",
    "\n",
    "#Define values for x and y axis\n",
    "counts=[v for v in count]\n",
    "x_axis=[j for j in range(1,11)]\n",
    "\n",
    "#Ploting the bar chart for the datapoint count for each treatment regimen\n",
    "count_plot=count.plot(kind=\"bar\",color=\"red\",title=\"Data Point Count for each Regimen\")\n",
    "\n",
    "#Set x axis label and y axis label\n",
    "count_plot.set_xlabel(\"regimen\")\n",
    "count_plot.set_ylabel(\"data_count\")\n",
    "\n",
    "\n",
    "\n"
   ]
  },
  {
   "cell_type": "markdown",
   "metadata": {},
   "source": [
    "## Pie plots"
   ]
  },
  {
   "cell_type": "code",
   "execution_count": 197,
   "metadata": {},
   "outputs": [
    {
     "data": {
      "text/plain": [
       "Text(0.5, 1.0, 'distribution of female vs male mouse')"
      ]
     },
     "execution_count": 197,
     "metadata": {},
     "output_type": "execute_result"
    },
    {
     "data": {
      "image/png": "[encoded data removed]",
      "text/plain": [
       "<Figure size 432x288 with 1 Axes>"
      ]
     },
     "metadata": {},
     "output_type": "display_data"
    }
   ],
   "source": [
    "# Generate a pie plot showing the distribution of female versus male mice using pandas\n",
    "\n",
    "#Define elements of pie chart inlcuding explode,data,labels \n",
    "explode=(0.1,0)\n",
    "mouse_sex_count=[v for v in mouse_result[\"Sex\"].value_counts()]\n",
    "mouse_sex_list=[\"Male\",\"Female\"]\n",
    "\n",
    "#Plot the pie chart\n",
    "plt.pie(mouse_sex_count,labels=mouse_sex_list,explode=explode,autopct=\"%1.1f%%\", shadow=True, startangle=90)\n",
    "\n",
    "#Add title for the Pie Chart\n",
    "plt.title(\"distribution of female vs male mouse\")\n",
    "\n"
   ]
  },
  {
   "cell_type": "code",
   "execution_count": 198,
   "metadata": {},
   "outputs": [
    {
     "data": {
      "image/png": "[encoded data removed]",
      "text/plain": [
       "<Figure size 432x288 with 1 Axes>"
      ]
     },
     "metadata": {},
     "output_type": "display_data"
    }
   ],
   "source": [
    "# Generate a pie plot showing the distribution of female versus male mice using pyplot\n",
    "\n",
    "#Define pie chart elements including explode and data\n",
    "explode=(0.1,0)\n",
    "mouse_sex_counts=mouse_result[\"Sex\"]\n",
    "\n",
    "#Plot the Pie chart\n",
    "mouse_sex_piechart=mouse_sex_counts.value_counts().plot(kind=\"pie\",explode=explode,autopct=\"%1.1f%%\",shadow=True, startangle=90,title=(\"distribution of female vs male mouse\"))\n",
    "\n",
    "\n"
   ]
  },
  {
   "cell_type": "markdown",
   "metadata": {},
   "source": [
    "## Quartiles, outliers and boxplots"
   ]
  },
  {
   "cell_type": "code",
   "execution_count": 199,
   "metadata": {},
   "outputs": [
    {
     "name": "stdout",
     "output_type": "stream",
     "text": [
      "for mouse under Capomulin regimen\n",
      "-----------------------------------------\n",
      "   lower quantile  upper quantile       IQR  lower bound  upper bound\n",
      "0       32.377357        40.15922  7.781863    20.704562    51.832015\n",
      "outliers under Capomulin regimen\n",
      "-----------------------------------------\n",
      "Empty DataFrame\n",
      "Columns: [Drug Regimen, Sex, Age_months, Weight (g), Timepoint, Tumor Volume (mm3), Metastatic Sites]\n",
      "Index: []\n",
      "No Outliers\n",
      "for mouse under Ramicane regimen\n",
      "-----------------------------------------\n",
      "   lower quantile  upper quantile       IQR  lower bound  upper bound\n",
      "0        31.56047       40.659006  9.098537    17.912664    54.306811\n",
      "outliers under Ramicane regimen\n",
      "-----------------------------------------\n",
      "Empty DataFrame\n",
      "Columns: [Drug Regimen, Sex, Age_months, Weight (g), Timepoint, Tumor Volume (mm3), Metastatic Sites]\n",
      "Index: []\n",
      "No Outliers\n",
      "for mouse under Infubinol regimen\n",
      "-----------------------------------------\n",
      "   lower quantile  upper quantile        IQR  lower bound  upper bound\n",
      "0       54.048608       65.525743  11.477135    36.832905    82.741446\n",
      "outliers under Infubinol regimen\n",
      "-----------------------------------------\n",
      "         Drug Regimen     Sex  Age_months  Weight (g)  Timepoint  \\\n",
      "Mouse ID                                                           \n",
      "c326        Infubinol  Female          18          25          5   \n",
      "\n",
      "          Tumor Volume (mm3)  Metastatic Sites  \n",
      "Mouse ID                                        \n",
      "c326               36.321346                 0  \n",
      "Outliers\n",
      "for mouse under Ceftamin regimen\n",
      "-----------------------------------------\n",
      "   lower quantile  upper quantile        IQR  lower bound  upper bound\n",
      "0       48.722078        64.29983  15.577752     25.35545    87.666458\n",
      "outliers under Ceftamin regimen\n",
      "-----------------------------------------\n",
      "Empty DataFrame\n",
      "Columns: [Drug Regimen, Sex, Age_months, Weight (g), Timepoint, Tumor Volume (mm3), Metastatic Sites]\n",
      "Index: []\n",
      "No Outliers\n"
     ]
    }
   ],
   "source": [
    "# Calculate the final tumor volume of each mouse across four of the most promising treatment regimens. Calculate the IQR and quantitatively determine if there are any potential outliers. \n",
    "\n",
    "#For for mouse under Capomulin regimen\n",
    "#Define data\n",
    "last_table_Capomulin=mouse_result[mouse_result[\"Drug Regimen\"]==\"Capomulin\"].groupby(\"Mouse ID\").last()\n",
    "last_table_Capomulin.head()\n",
    "last_tumor_volume_Capomulin=last_table_Capomulin[\"Tumor Volume (mm3)\"]\n",
    "\n",
    "#Calculating lower quantile, upper quantile, interquantile range, lower bound and upper bound\n",
    "tumor_quantiles_Capomulin=last_tumor_volume_Capomulin.quantile([0.25,0.5,0.75])\n",
    "lower_quantile_Capomulin=tumor_quantiles_Capomulin[0.25]\n",
    "upper_quantile_Capomulin=tumor_quantiles_Capomulin[0.75]\n",
    "IQR_Capomulin=upper_quantile_Capomulin-lower_quantile_Capomulin\n",
    "lower_bound_Capomulin=lower_quantile_Capomulin-IQR_Capomulin*1.5\n",
    "upper_bound_Capomulin=upper_quantile_Capomulin+IQR_Capomulin*1.5\n",
    "\n",
    "#Create DataFrame to report lower quantile, upper quantile, interquantile range, lower bound and upper bound\n",
    "summary_table_Capomulin=pd.DataFrame({\n",
    "    \"lower quantile\":[lower_quantile_Capomulin,],\n",
    "    \"upper quantile\":[upper_quantile_Capomulin,],\n",
    "    \"IQR\":[IQR_Capomulin,],\n",
    "    \"lower bound\":[lower_bound_Capomulin,],\n",
    "    \"upper bound\":[upper_bound_Capomulin,]    \n",
    "})\n",
    "\n",
    "\n",
    "#Print report\n",
    "print(\"for mouse under Capomulin regimen\")\n",
    "print(\"-----------------------------------------\")\n",
    "print(summary_table_Capomulin)\n",
    "\n",
    "#Report if potential outliers can be found\n",
    "print(\"outliers under Capomulin regimen\")\n",
    "print(\"-----------------------------------------\")\n",
    "print(last_table_Capomulin[(last_table_Capomulin[\"Tumor Volume (mm3)\"]<lower_bound_Capomulin)&(last_table_Capomulin[\"Tumor Volume (mm3)\"]<lower_bound_Capomulin)])\n",
    "print(\"No Outliers\")                                                              \n",
    "\n",
    "\n",
    "#For for mouse under Ramicane regimen\n",
    "#Define data\n",
    "last_table_Ramicane=mouse_result[mouse_result[\"Drug Regimen\"]==\"Ramicane\"].groupby(\"Mouse ID\").last()\n",
    "last_table_Ramicane.head()\n",
    "last_tumor_volume_Ramicane=last_table_Ramicane[\"Tumor Volume (mm3)\"]\n",
    "\n",
    "#Calculating lower quantile, upper quantile, interquantile range, lower bound and upper bound\n",
    "tumor_quantiles_Ramicane=last_tumor_volume_Ramicane.quantile([0.25,0.5,0.75])\n",
    "lower_quantile_Ramicane=tumor_quantiles_Ramicane[0.25]\n",
    "upper_quantile_Ramicane=tumor_quantiles_Ramicane[0.75]\n",
    "IQR_Ramicane=upper_quantile_Ramicane-lower_quantile_Ramicane\n",
    "lower_bound_Ramicane=lower_quantile_Ramicane-IQR_Ramicane*1.5\n",
    "upper_bound_Ramicane=upper_quantile_Ramicane+IQR_Ramicane*1.5\n",
    "\n",
    "#Create DataFrame to report lower quantile, upper quantile, interquantile range, lower bound and upper bound\n",
    "summary_table_Ramicane=pd.DataFrame({\n",
    "    \"lower quantile\":[lower_quantile_Ramicane,],\n",
    "    \"upper quantile\":[upper_quantile_Ramicane,],\n",
    "    \"IQR\":[IQR_Ramicane,],\n",
    "    \"lower bound\":[lower_bound_Ramicane,],\n",
    "    \"upper bound\":[upper_bound_Ramicane,]    \n",
    "})\n",
    "\n",
    "#Print report\n",
    "print(\"for mouse under Ramicane regimen\")\n",
    "print(\"-----------------------------------------\")\n",
    "print(summary_table_Ramicane)\n",
    "\n",
    "#Report if potential outliers can be found\n",
    "print(\"outliers under Ramicane regimen\")\n",
    "print(\"-----------------------------------------\")\n",
    "print(last_table_Ramicane[(last_table_Ramicane[\"Tumor Volume (mm3)\"]<lower_bound_Ramicane)&(last_table_Ramicane[\"Tumor Volume (mm3)\"]<lower_bound_Ramicane)])\n",
    "print(\"No Outliers\")                                                                                                                                             \n",
    "\n",
    "\n",
    "#For for mouse under Infubinol regimen\n",
    "#Define data\n",
    "last_table_Infubinol=mouse_result[mouse_result[\"Drug Regimen\"]==\"Infubinol\"].groupby(\"Mouse ID\").last()\n",
    "last_table_Infubinol.head()\n",
    "last_tumor_volume_Infubinol=last_table_Infubinol[\"Tumor Volume (mm3)\"]\n",
    "\n",
    "#Calculating lower quantile, upper quantile, interquantile range, lower bound and upper bound\n",
    "tumor_quantiles_Infubinol=last_tumor_volume_Infubinol.quantile([0.25,0.5,0.75])\n",
    "lower_quantile_Infubinol=tumor_quantiles_Infubinol[0.25]\n",
    "upper_quantile_Infubinol=tumor_quantiles_Infubinol[0.75]\n",
    "IQR_Infubinol=upper_quantile_Infubinol-lower_quantile_Infubinol\n",
    "lower_bound_Infubinol=lower_quantile_Infubinol-IQR_Infubinol*1.5\n",
    "upper_bound_Infubinol=upper_quantile_Infubinol+IQR_Infubinol*1.5\n",
    "\n",
    "#Create DataFrame to report lower quantile, upper quantile, interquantile range, lower bound and upper bound\n",
    "summary_table_Infubinol=pd.DataFrame({\n",
    "    \"lower quantile\":[lower_quantile_Infubinol,],\n",
    "    \"upper quantile\":[upper_quantile_Infubinol,],\n",
    "    \"IQR\":[IQR_Infubinol,],\n",
    "    \"lower bound\":[lower_bound_Infubinol,],\n",
    "    \"upper bound\":[upper_bound_Infubinol,]    \n",
    "})\n",
    "\n",
    "#Print report\n",
    "print(\"for mouse under Infubinol regimen\")\n",
    "print(\"-----------------------------------------\")\n",
    "print(summary_table_Infubinol)\n",
    "\n",
    "#Report if potential outliers can be found\n",
    "print(\"outliers under Infubinol regimen\")\n",
    "print(\"-----------------------------------------\")\n",
    "print(last_table_Infubinol[(last_table_Infubinol[\"Tumor Volume (mm3)\"]<lower_bound_Infubinol)&(last_table_Infubinol[\"Tumor Volume (mm3)\"]<lower_bound_Infubinol)])  \n",
    "print(\"Outliers\")\n",
    "\n",
    "\n",
    "\n",
    "#For for mouse under Ceftamin regimen\n",
    "#Define data\n",
    "last_table_Ceftamin=mouse_result[mouse_result[\"Drug Regimen\"]==\"Ceftamin\"].groupby(\"Mouse ID\").last()\n",
    "last_table_Ceftamin.head()\n",
    "last_tumor_volume_Ceftamin=last_table_Ceftamin[\"Tumor Volume (mm3)\"]\n",
    "\n",
    "#Calculating lower quantile, upper quantile, interquantile range, lower bound and upper bound\n",
    "tumor_quantiles_Ceftamin=last_tumor_volume_Ceftamin.quantile([0.25,0.5,0.75])\n",
    "lower_quantile_Ceftamin=tumor_quantiles_Ceftamin[0.25]\n",
    "upper_quantile_Ceftamin=tumor_quantiles_Ceftamin[0.75]\n",
    "IQR_Ceftamin=upper_quantile_Ceftamin-lower_quantile_Ceftamin\n",
    "lower_bound_Ceftamin=lower_quantile_Ceftamin-IQR_Ceftamin*1.5\n",
    "upper_bound_Ceftamin=upper_quantile_Ceftamin+IQR_Ceftamin*1.5\n",
    "\n",
    "#Create DataFrame to report lower quantile, upper quantile, interquantile range, lower bound and upper bound\n",
    "summary_table_Ceftamin=pd.DataFrame({\n",
    "    \"lower quantile\":[lower_quantile_Ceftamin,],\n",
    "    \"upper quantile\":[upper_quantile_Ceftamin,],\n",
    "    \"IQR\":[IQR_Ceftamin,],\n",
    "    \"lower bound\":[lower_bound_Ceftamin,],\n",
    "    \"upper bound\":[upper_bound_Ceftamin,]    \n",
    "})\n",
    "\n",
    "#Print report\n",
    "print(\"for mouse under Ceftamin regimen\")\n",
    "print(\"-----------------------------------------\")\n",
    "print(summary_table_Ceftamin)\n",
    "\n",
    "#Report if potential outliers can be found\n",
    "print(\"outliers under Ceftamin regimen\")\n",
    "print(\"-----------------------------------------\")\n",
    "print(last_table_Ceftamin[(last_table_Ceftamin[\"Tumor Volume (mm3)\"]<lower_bound_Ceftamin)&(last_table_Ceftamin[\"Tumor Volume (mm3)\"]<lower_bound_Ceftamin)])                                                                               \n",
    "print(\"No Outliers\")\n",
    "\n"
   ]
  },
  {
   "cell_type": "code",
   "execution_count": 200,
   "metadata": {},
   "outputs": [
    {
     "data": {
      "image/png": "[encoded data removed]",
      "text/plain": [
       "<Figure size 432x288 with 1 Axes>"
      ]
     },
     "metadata": {
      "needs_background": "light"
     },
     "output_type": "display_data"
    }
   ],
   "source": [
    "# Generate a box plot of the final tumor volume of each mouse across four regimens of interest\n",
    "\n",
    "#Define x axis\n",
    "x_axis=[\"Capomulin\", \"Ramicane\", \"Infubinol\", \"Ceftamin\"]\n",
    "\n",
    "#Ploting the boxplot\n",
    "fig1, ax = plt.subplots()\n",
    "ax.set_title('Tumor volume under each treatment')\n",
    "ax.set_ylabel('Tumor volume (mm3)')\n",
    "ax.set_xlabel(\"treatments\")\n",
    "data_by_treatment=[last_tumor_volume_Capomulin,last_tumor_volume_Ramicane,last_tumor_volume_Infubinol,last_tumor_volume_Ceftamin]\n",
    "ax.boxplot(data_by_treatment)\n",
    "ax.set_xticklabels(x_axis,rotation=45, fontsize=10)\n",
    "plt.show()\n",
    "\n"
   ]
  },
  {
   "cell_type": "markdown",
   "metadata": {},
   "source": [
    "## Line and scatter plots"
   ]
  },
  {
   "cell_type": "code",
   "execution_count": 171,
   "metadata": {},
   "outputs": [
    {
     "data": {
      "text/plain": [
       "Text(0.5, 1.0, 'tumer volumn vs time point under Capomulin treatment for mouse s185')"
      ]
     },
     "execution_count": 171,
     "metadata": {},
     "output_type": "execute_result"
    },
    {
     "data": {
      "image/png": "[encoded data removed]",
      "text/plain": [
       "<Figure size 432x288 with 1 Axes>"
      ]
     },
     "metadata": {
      "needs_background": "light"
     },
     "output_type": "display_data"
    }
   ],
   "source": [
    "# Generate a line plot of time point versus tumor volume for a mouse treated with Capomulin\n",
    "#Define data for a single mouse\n",
    "mouse_result1=mouse_result[mouse_result[\"Drug Regimen\"]==\"Capomulin\"]\n",
    "mouse_time=mouse_result1[mouse_result1[\"Mouse ID\"]==\"s185\"][[\"Timepoint\"]]\n",
    "mouse_tumer=mouse_result1[mouse_result1[\"Mouse ID\"]==\"s185\"][[\"Tumor Volume (mm3)\"]]\n",
    "\n",
    "#Plot the line chart\n",
    "plt.plot(mouse_time, mouse_tumer)\n",
    "plt.xlabel(\"time point\")\n",
    "plt.ylabel(\"tumer volume (mm3)\")\n",
    "plt.title(\"tumer volumn vs time point under Capomulin treatment for mouse s185\")\n"
   ]
  },
  {
   "cell_type": "code",
   "execution_count": 201,
   "metadata": {},
   "outputs": [
    {
     "data": {
      "text/plain": [
       "Text(0, 0.5, 'Average Tumor Volume (mm3)')"
      ]
     },
     "execution_count": 201,
     "metadata": {},
     "output_type": "execute_result"
    },
    {
     "data": {
      "image/png": "[encoded data removed]",
      "text/plain": [
       "<Figure size 432x288 with 1 Axes>"
      ]
     },
     "metadata": {
      "needs_background": "light"
     },
     "output_type": "display_data"
    }
   ],
   "source": [
    "# Generate a scatter plot of mouse weight versus average tumor volume for the Capomulin regimen\n",
    "#Create table and calculate average tumor volume \n",
    "weight_vs_ave_tumor=mouse_result_Capomulin.groupby(\"Mouse ID\")\n",
    "weight_ave_tumor=weight_vs_ave_tumor.mean()\n",
    "\n",
    "#Create the scatter plot \n",
    "weight_vs_tumor=weight_ave_tumor.plot(kind=\"scatter\",x=\"Weight (g)\",y=\"Tumor Volume (mm3)\",color=\"red\",title=(\"mouse weight versus average tumor volume for the Capomulin regimen\"))\n",
    "weight_vs_tumor.set_ylabel(\"Average Tumor Volume (mm3)\")\n",
    "\n",
    "\n",
    "\n"
   ]
  },
  {
   "cell_type": "code",
   "execution_count": 202,
   "metadata": {},
   "outputs": [
    {
     "data": {
      "text/plain": [
       "Text(15, 35, 'average tumor volume=0.95*weight+21.55')"
      ]
     },
     "execution_count": 202,
     "metadata": {},
     "output_type": "execute_result"
    },
    {
     "data": {
      "image/png": "[encoded data removed]",
      "text/plain": [
       "<Figure size 432x288 with 1 Axes>"
      ]
     },
     "metadata": {
      "needs_background": "light"
     },
     "output_type": "display_data"
    }
   ],
   "source": [
    "# Calculate the correlation coefficient and linear regression model for mouse weight and average tumor volume for the Capomulin regimen\n",
    "#Define x and y value\n",
    "x_value=weight_ave_tumor[\"Weight (g)\"]\n",
    "y_value=weight_ave_tumor[\"Tumor Volume (mm3)\"]\n",
    "\n",
    "#Run regression \n",
    "regression=st.linregress(x_value,y_value)\n",
    "(slope,intercept,rvalue,pvalue,stderr)=regression\n",
    "\n",
    "#Define linear equation \n",
    "linear_equation=\"average tumor volume=\"+str(round(slope,2))+\"*\"+\"weight\"+\"+\"+str(round(intercept,2))\n",
    "\n",
    "#Calcualte the regression value \n",
    "reg_value=slope*x_value+intercept\n",
    "\n",
    "#Create scatter plot \n",
    "plt.scatter(x_value, y_value,color=\"blue\",alpha=0.6)\n",
    "plt.xlabel(\"Weight (g)\")\n",
    "plt.ylabel(\"Average Tumor Volume (mm3)\")\n",
    "plt.title(\"Average Tumor Volume vs Weight\")\n",
    "\n",
    "#Plot the regression line \n",
    "plt.plot(x_value,reg_value,\"r-\")\n",
    "plt.annotate(linear_equation,(15,35),color=\"red\",fontsize=14)\n"
   ]
  },
  {
   "cell_type": "code",
   "execution_count": null,
   "metadata": {},
   "outputs": [],
   "source": []
  }
 ],
 "metadata": {
  "anaconda-cloud": {},
  "kernelspec": {
   "display_name": "Python 3",
   "language": "python",
   "name": "python3"
  },
  "language_info": {
   "codemirror_mode": {
    "name": "ipython",
    "version": 3
   },
   "file_extension": ".py",
   "mimetype": "text/x-python",
   "name": "python",
   "nbconvert_exporter": "python",
   "pygments_lexer": "ipython3",
   "version": "3.6.10"
  }
 },
 "nbformat": 4,
 "nbformat_minor": 2
}
